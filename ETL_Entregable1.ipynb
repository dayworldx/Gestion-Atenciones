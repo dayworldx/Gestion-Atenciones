{
 "cells": [
  {
   "cell_type": "code",
   "execution_count": 1,
   "metadata": {},
   "outputs": [
    {
     "data": {
      "text/plain": [
       "polars.config.Config"
      ]
     },
     "execution_count": 1,
     "metadata": {},
     "output_type": "execute_result"
    }
   ],
   "source": [
    "import polars as pl\n",
    "from polars import Config\n",
    "Config.set_fmt_str_lengths(100)"
   ]
  },
  {
   "cell_type": "markdown",
   "metadata": {},
   "source": [
    "## Lectura Tickets Historico"
   ]
  },
  {
   "cell_type": "code",
   "execution_count": 2,
   "metadata": {},
   "outputs": [
    {
     "data": {
      "text/html": [
       "<div><style>\n",
       ".dataframe > thead > tr,\n",
       ".dataframe > tbody > tr {\n",
       "  text-align: right;\n",
       "  white-space: pre-wrap;\n",
       "}\n",
       "</style>\n",
       "<small>shape: (5, 7)</small><table border=\"1\" class=\"dataframe\"><thead><tr><th>TicketID</th><th>Ubicacion</th><th>Service Desk</th><th>Estado</th><th>Fecha Creacion</th><th>Fecha Termino</th><th>Fecha Cierre</th></tr><tr><td>str</td><td>str</td><td>str</td><td>str</td><td>date</td><td>date</td><td>date</td></tr></thead><tbody><tr><td>&quot;WO0000004122687&quot;</td><td>&quot;AREQUIPA - 215000&quot;</td><td>&quot;Zona Norte&quot;</td><td>&quot;Cerrado&quot;</td><td>2022-06-01</td><td>2022-06-14</td><td>2022-06-14</td></tr><tr><td>&quot;WO0000004122649&quot;</td><td>&quot;METRO AV. WIESSE - 191106&quot;</td><td>&quot;Zona Centro&quot;</td><td>&quot;Cerrado&quot;</td><td>2022-06-01</td><td>2022-06-17</td><td>2022-06-17</td></tr><tr><td>&quot;WO0000004122502&quot;</td><td>&quot;NICOLAS AYLLON - 191027&quot;</td><td>&quot;Zona Centro&quot;</td><td>&quot;Cerrado&quot;</td><td>2022-06-01</td><td>2022-06-08</td><td>2022-06-08</td></tr><tr><td>&quot;WO0000004122513&quot;</td><td>&quot;JAUREGUI - 405005&quot;</td><td>&quot;Zona Norte&quot;</td><td>&quot;Cerrado&quot;</td><td>2022-06-01</td><td>2022-06-18</td><td>2022-06-18</td></tr><tr><td>&quot;WO0000004122741&quot;</td><td>&quot;CANTO GRANDE - 191096&quot;</td><td>&quot;Zona Centro&quot;</td><td>&quot;Cerrado&quot;</td><td>2022-06-01</td><td>2022-06-08</td><td>2022-06-08</td></tr></tbody></table></div>"
      ],
      "text/plain": [
       "shape: (5, 7)\n",
       "┌──────────────┬──────────────┬──────────────┬─────────┬──────────────┬──────────────┬─────────────┐\n",
       "│ TicketID     ┆ Ubicacion    ┆ Service Desk ┆ Estado  ┆ Fecha        ┆ Fecha        ┆ Fecha       │\n",
       "│ ---          ┆ ---          ┆ ---          ┆ ---     ┆ Creacion     ┆ Termino      ┆ Cierre      │\n",
       "│ str          ┆ str          ┆ str          ┆ str     ┆ ---          ┆ ---          ┆ ---         │\n",
       "│              ┆              ┆              ┆         ┆ date         ┆ date         ┆ date        │\n",
       "╞══════════════╪══════════════╪══════════════╪═════════╪══════════════╪══════════════╪═════════════╡\n",
       "│ WO0000004122 ┆ AREQUIPA -   ┆ Zona Norte   ┆ Cerrado ┆ 2022-06-01   ┆ 2022-06-14   ┆ 2022-06-14  │\n",
       "│ 687          ┆ 215000       ┆              ┆         ┆              ┆              ┆             │\n",
       "│ WO0000004122 ┆ METRO AV.    ┆ Zona Centro  ┆ Cerrado ┆ 2022-06-01   ┆ 2022-06-17   ┆ 2022-06-17  │\n",
       "│ 649          ┆ WIESSE -     ┆              ┆         ┆              ┆              ┆             │\n",
       "│              ┆ 191106       ┆              ┆         ┆              ┆              ┆             │\n",
       "│ WO0000004122 ┆ NICOLAS      ┆ Zona Centro  ┆ Cerrado ┆ 2022-06-01   ┆ 2022-06-08   ┆ 2022-06-08  │\n",
       "│ 502          ┆ AYLLON -     ┆              ┆         ┆              ┆              ┆             │\n",
       "│              ┆ 191027       ┆              ┆         ┆              ┆              ┆             │\n",
       "│ WO0000004122 ┆ JAUREGUI -   ┆ Zona Norte   ┆ Cerrado ┆ 2022-06-01   ┆ 2022-06-18   ┆ 2022-06-18  │\n",
       "│ 513          ┆ 405005       ┆              ┆         ┆              ┆              ┆             │\n",
       "│ WO0000004122 ┆ CANTO GRANDE ┆ Zona Centro  ┆ Cerrado ┆ 2022-06-01   ┆ 2022-06-08   ┆ 2022-06-08  │\n",
       "│ 741          ┆ - 191096     ┆              ┆         ┆              ┆              ┆             │\n",
       "└──────────────┴──────────────┴──────────────┴─────────┴──────────────┴──────────────┴─────────────┘"
      ]
     },
     "execution_count": 2,
     "metadata": {},
     "output_type": "execute_result"
    }
   ],
   "source": [
    "Historico = pl.read_csv(\n",
    "    source='./Tickets/Tickets Historico.txt',    \n",
    "    separator=';',\n",
    "    columns=['Numero Ticket', 'Ubicacion', 'Service Desk', 'Estado','Fecha Creacion','Fecha Termino', 'Fecha Cierre'],\n",
    "    try_parse_dates=True    \n",
    ").rename({'Numero Ticket':'TicketID'})\n",
    "Historico.head()"
   ]
  },
  {
   "cell_type": "markdown",
   "metadata": {},
   "source": [
    "## Lectura Tickets Actuales"
   ]
  },
  {
   "cell_type": "code",
   "execution_count": 3,
   "metadata": {},
   "outputs": [
    {
     "data": {
      "text/html": [
       "<div><style>\n",
       ".dataframe > thead > tr,\n",
       ".dataframe > tbody > tr {\n",
       "  text-align: right;\n",
       "  white-space: pre-wrap;\n",
       "}\n",
       "</style>\n",
       "<small>shape: (5, 7)</small><table border=\"1\" class=\"dataframe\"><thead><tr><th>TicketID</th><th>Ubicacion</th><th>Service Desk</th><th>Estado</th><th>Fecha Creacion</th><th>Fecha Termino</th><th>Fecha Cierre</th></tr><tr><td>str</td><td>str</td><td>str</td><td>str</td><td>date</td><td>date</td><td>date</td></tr></thead><tbody><tr><td>&quot;WO0000004853311&quot;</td><td>&quot;TUPAC AMARU - 191038&quot;</td><td>&quot;Zona Centro&quot;</td><td>&quot;Cerrado&quot;</td><td>2023-01-02</td><td>2023-01-10</td><td>2023-01-13</td></tr><tr><td>&quot;WO0000004852942&quot;</td><td>&quot;SAN JUAN DE LURIGANCHO - 191017&quot;</td><td>&quot;Zona Centro&quot;</td><td>&quot;Cerrado&quot;</td><td>2023-01-02</td><td>2023-01-02</td><td>2023-01-05</td></tr><tr><td>&quot;WO0000004852621&quot;</td><td>&quot;MARIANO MELGAR - 215014&quot;</td><td>&quot;Zona Norte&quot;</td><td>&quot;Cerrado&quot;</td><td>2023-01-02</td><td>2023-01-06</td><td>2023-01-09</td></tr><tr><td>&quot;SA0000004853328&quot;</td><td>&quot;ANDAHUAYLAS - 205000&quot;</td><td>&quot;Zona Norte&quot;</td><td>&quot;Cerrado&quot;</td><td>2023-01-02</td><td>2023-01-07</td><td>2023-01-10</td></tr><tr><td>&quot;SA0000004853160&quot;</td><td>&quot;COLLIQUE - 191065&quot;</td><td>&quot;Zona Centro&quot;</td><td>&quot;Cerrado&quot;</td><td>2023-01-02</td><td>2023-01-04</td><td>2023-01-07</td></tr></tbody></table></div>"
      ],
      "text/plain": [
       "shape: (5, 7)\n",
       "┌──────────────┬──────────────┬──────────────┬─────────┬──────────────┬──────────────┬─────────────┐\n",
       "│ TicketID     ┆ Ubicacion    ┆ Service Desk ┆ Estado  ┆ Fecha        ┆ Fecha        ┆ Fecha       │\n",
       "│ ---          ┆ ---          ┆ ---          ┆ ---     ┆ Creacion     ┆ Termino      ┆ Cierre      │\n",
       "│ str          ┆ str          ┆ str          ┆ str     ┆ ---          ┆ ---          ┆ ---         │\n",
       "│              ┆              ┆              ┆         ┆ date         ┆ date         ┆ date        │\n",
       "╞══════════════╪══════════════╪══════════════╪═════════╪══════════════╪══════════════╪═════════════╡\n",
       "│ WO0000004853 ┆ TUPAC AMARU  ┆ Zona Centro  ┆ Cerrado ┆ 2023-01-02   ┆ 2023-01-10   ┆ 2023-01-13  │\n",
       "│ 311          ┆ - 191038     ┆              ┆         ┆              ┆              ┆             │\n",
       "│ WO0000004852 ┆ SAN JUAN DE  ┆ Zona Centro  ┆ Cerrado ┆ 2023-01-02   ┆ 2023-01-02   ┆ 2023-01-05  │\n",
       "│ 942          ┆ LURIGANCHO - ┆              ┆         ┆              ┆              ┆             │\n",
       "│              ┆ 191017       ┆              ┆         ┆              ┆              ┆             │\n",
       "│ WO0000004852 ┆ MARIANO      ┆ Zona Norte   ┆ Cerrado ┆ 2023-01-02   ┆ 2023-01-06   ┆ 2023-01-09  │\n",
       "│ 621          ┆ MELGAR -     ┆              ┆         ┆              ┆              ┆             │\n",
       "│              ┆ 215014       ┆              ┆         ┆              ┆              ┆             │\n",
       "│ SA0000004853 ┆ ANDAHUAYLAS  ┆ Zona Norte   ┆ Cerrado ┆ 2023-01-02   ┆ 2023-01-07   ┆ 2023-01-10  │\n",
       "│ 328          ┆ - 205000     ┆              ┆         ┆              ┆              ┆             │\n",
       "│ SA0000004853 ┆ COLLIQUE -   ┆ Zona Centro  ┆ Cerrado ┆ 2023-01-02   ┆ 2023-01-04   ┆ 2023-01-07  │\n",
       "│ 160          ┆ 191065       ┆              ┆         ┆              ┆              ┆             │\n",
       "└──────────────┴──────────────┴──────────────┴─────────┴──────────────┴──────────────┴─────────────┘"
      ]
     },
     "execution_count": 3,
     "metadata": {},
     "output_type": "execute_result"
    }
   ],
   "source": [
    "Actuales = pl.read_csv(\n",
    "    source='./Tickets/Tickets Actual.csv',\n",
    "    separator='|',\n",
    "    columns=['Numero Ticket', 'Ubicacion', 'Service Desk', 'Estado','Fecha Creacion','Fecha Termino', 'Fecha Cierre'],\n",
    "    try_parse_dates=True\n",
    ").rename({'Numero Ticket':'TicketID'})\n",
    "Actuales.head()"
   ]
  },
  {
   "cell_type": "markdown",
   "metadata": {},
   "source": [
    "- Base Actuales: Filtrar aquellos Tickets que comiencen con WO"
   ]
  },
  {
   "cell_type": "code",
   "execution_count": 4,
   "metadata": {},
   "outputs": [
    {
     "data": {
      "text/html": [
       "<div><style>\n",
       ".dataframe > thead > tr,\n",
       ".dataframe > tbody > tr {\n",
       "  text-align: right;\n",
       "  white-space: pre-wrap;\n",
       "}\n",
       "</style>\n",
       "<small>shape: (5, 7)</small><table border=\"1\" class=\"dataframe\"><thead><tr><th>TicketID</th><th>Ubicacion</th><th>Service Desk</th><th>Estado</th><th>Fecha Creacion</th><th>Fecha Termino</th><th>Fecha Cierre</th></tr><tr><td>str</td><td>str</td><td>str</td><td>str</td><td>date</td><td>date</td><td>date</td></tr></thead><tbody><tr><td>&quot;WO0000004853311&quot;</td><td>&quot;TUPAC AMARU - 191038&quot;</td><td>&quot;Zona Centro&quot;</td><td>&quot;Cerrado&quot;</td><td>2023-01-02</td><td>2023-01-10</td><td>2023-01-13</td></tr><tr><td>&quot;WO0000004852942&quot;</td><td>&quot;SAN JUAN DE LURIGANCHO - 191017&quot;</td><td>&quot;Zona Centro&quot;</td><td>&quot;Cerrado&quot;</td><td>2023-01-02</td><td>2023-01-02</td><td>2023-01-05</td></tr><tr><td>&quot;WO0000004852621&quot;</td><td>&quot;MARIANO MELGAR - 215014&quot;</td><td>&quot;Zona Norte&quot;</td><td>&quot;Cerrado&quot;</td><td>2023-01-02</td><td>2023-01-06</td><td>2023-01-09</td></tr><tr><td>&quot;WO0000004853328&quot;</td><td>&quot;ANDAHUAYLAS - 205000&quot;</td><td>&quot;Zona Norte&quot;</td><td>&quot;Cerrado&quot;</td><td>2023-01-02</td><td>2023-01-07</td><td>2023-01-10</td></tr><tr><td>&quot;WO0000004853160&quot;</td><td>&quot;COLLIQUE - 191065&quot;</td><td>&quot;Zona Centro&quot;</td><td>&quot;Cerrado&quot;</td><td>2023-01-02</td><td>2023-01-04</td><td>2023-01-07</td></tr></tbody></table></div>"
      ],
      "text/plain": [
       "shape: (5, 7)\n",
       "┌──────────────┬──────────────┬──────────────┬─────────┬──────────────┬──────────────┬─────────────┐\n",
       "│ TicketID     ┆ Ubicacion    ┆ Service Desk ┆ Estado  ┆ Fecha        ┆ Fecha        ┆ Fecha       │\n",
       "│ ---          ┆ ---          ┆ ---          ┆ ---     ┆ Creacion     ┆ Termino      ┆ Cierre      │\n",
       "│ str          ┆ str          ┆ str          ┆ str     ┆ ---          ┆ ---          ┆ ---         │\n",
       "│              ┆              ┆              ┆         ┆ date         ┆ date         ┆ date        │\n",
       "╞══════════════╪══════════════╪══════════════╪═════════╪══════════════╪══════════════╪═════════════╡\n",
       "│ WO0000004853 ┆ TUPAC AMARU  ┆ Zona Centro  ┆ Cerrado ┆ 2023-01-02   ┆ 2023-01-10   ┆ 2023-01-13  │\n",
       "│ 311          ┆ - 191038     ┆              ┆         ┆              ┆              ┆             │\n",
       "│ WO0000004852 ┆ SAN JUAN DE  ┆ Zona Centro  ┆ Cerrado ┆ 2023-01-02   ┆ 2023-01-02   ┆ 2023-01-05  │\n",
       "│ 942          ┆ LURIGANCHO - ┆              ┆         ┆              ┆              ┆             │\n",
       "│              ┆ 191017       ┆              ┆         ┆              ┆              ┆             │\n",
       "│ WO0000004852 ┆ MARIANO      ┆ Zona Norte   ┆ Cerrado ┆ 2023-01-02   ┆ 2023-01-06   ┆ 2023-01-09  │\n",
       "│ 621          ┆ MELGAR -     ┆              ┆         ┆              ┆              ┆             │\n",
       "│              ┆ 215014       ┆              ┆         ┆              ┆              ┆             │\n",
       "│ WO0000004853 ┆ ANDAHUAYLAS  ┆ Zona Norte   ┆ Cerrado ┆ 2023-01-02   ┆ 2023-01-07   ┆ 2023-01-10  │\n",
       "│ 328          ┆ - 205000     ┆              ┆         ┆              ┆              ┆             │\n",
       "│ WO0000004853 ┆ COLLIQUE -   ┆ Zona Centro  ┆ Cerrado ┆ 2023-01-02   ┆ 2023-01-04   ┆ 2023-01-07  │\n",
       "│ 160          ┆ 191065       ┆              ┆         ┆              ┆              ┆             │\n",
       "└──────────────┴──────────────┴──────────────┴─────────┴──────────────┴──────────────┴─────────────┘"
      ]
     },
     "execution_count": 4,
     "metadata": {},
     "output_type": "execute_result"
    }
   ],
   "source": [
    "Actuales = Actuales.filter(\n",
    "    pl.col('TicketID').str.starts_with('WO')\n",
    ")\n",
    "Actuales.head()"
   ]
  },
  {
   "cell_type": "markdown",
   "metadata": {},
   "source": [
    "## Anexando Tickets Historicos y Tickets Actuales"
   ]
  },
  {
   "cell_type": "code",
   "execution_count": 5,
   "metadata": {},
   "outputs": [
    {
     "data": {
      "text/html": [
       "<div><style>\n",
       ".dataframe > thead > tr,\n",
       ".dataframe > tbody > tr {\n",
       "  text-align: right;\n",
       "  white-space: pre-wrap;\n",
       "}\n",
       "</style>\n",
       "<small>shape: (5, 7)</small><table border=\"1\" class=\"dataframe\"><thead><tr><th>TicketID</th><th>Ubicacion</th><th>Service Desk</th><th>Estado</th><th>Fecha Creacion</th><th>Fecha Termino</th><th>Fecha Cierre</th></tr><tr><td>str</td><td>str</td><td>str</td><td>str</td><td>date</td><td>date</td><td>date</td></tr></thead><tbody><tr><td>&quot;WO0000004122687&quot;</td><td>&quot;AREQUIPA - 215000&quot;</td><td>&quot;Zona Norte&quot;</td><td>&quot;Cerrado&quot;</td><td>2022-06-01</td><td>2022-06-14</td><td>2022-06-14</td></tr><tr><td>&quot;WO0000004122649&quot;</td><td>&quot;METRO AV. WIESSE - 191106&quot;</td><td>&quot;Zona Centro&quot;</td><td>&quot;Cerrado&quot;</td><td>2022-06-01</td><td>2022-06-17</td><td>2022-06-17</td></tr><tr><td>&quot;WO0000004122502&quot;</td><td>&quot;NICOLAS AYLLON - 191027&quot;</td><td>&quot;Zona Centro&quot;</td><td>&quot;Cerrado&quot;</td><td>2022-06-01</td><td>2022-06-08</td><td>2022-06-08</td></tr><tr><td>&quot;WO0000004122513&quot;</td><td>&quot;JAUREGUI - 405005&quot;</td><td>&quot;Zona Norte&quot;</td><td>&quot;Cerrado&quot;</td><td>2022-06-01</td><td>2022-06-18</td><td>2022-06-18</td></tr><tr><td>&quot;WO0000004122741&quot;</td><td>&quot;CANTO GRANDE - 191096&quot;</td><td>&quot;Zona Centro&quot;</td><td>&quot;Cerrado&quot;</td><td>2022-06-01</td><td>2022-06-08</td><td>2022-06-08</td></tr></tbody></table></div>"
      ],
      "text/plain": [
       "shape: (5, 7)\n",
       "┌──────────────┬──────────────┬──────────────┬─────────┬──────────────┬──────────────┬─────────────┐\n",
       "│ TicketID     ┆ Ubicacion    ┆ Service Desk ┆ Estado  ┆ Fecha        ┆ Fecha        ┆ Fecha       │\n",
       "│ ---          ┆ ---          ┆ ---          ┆ ---     ┆ Creacion     ┆ Termino      ┆ Cierre      │\n",
       "│ str          ┆ str          ┆ str          ┆ str     ┆ ---          ┆ ---          ┆ ---         │\n",
       "│              ┆              ┆              ┆         ┆ date         ┆ date         ┆ date        │\n",
       "╞══════════════╪══════════════╪══════════════╪═════════╪══════════════╪══════════════╪═════════════╡\n",
       "│ WO0000004122 ┆ AREQUIPA -   ┆ Zona Norte   ┆ Cerrado ┆ 2022-06-01   ┆ 2022-06-14   ┆ 2022-06-14  │\n",
       "│ 687          ┆ 215000       ┆              ┆         ┆              ┆              ┆             │\n",
       "│ WO0000004122 ┆ METRO AV.    ┆ Zona Centro  ┆ Cerrado ┆ 2022-06-01   ┆ 2022-06-17   ┆ 2022-06-17  │\n",
       "│ 649          ┆ WIESSE -     ┆              ┆         ┆              ┆              ┆             │\n",
       "│              ┆ 191106       ┆              ┆         ┆              ┆              ┆             │\n",
       "│ WO0000004122 ┆ NICOLAS      ┆ Zona Centro  ┆ Cerrado ┆ 2022-06-01   ┆ 2022-06-08   ┆ 2022-06-08  │\n",
       "│ 502          ┆ AYLLON -     ┆              ┆         ┆              ┆              ┆             │\n",
       "│              ┆ 191027       ┆              ┆         ┆              ┆              ┆             │\n",
       "│ WO0000004122 ┆ JAUREGUI -   ┆ Zona Norte   ┆ Cerrado ┆ 2022-06-01   ┆ 2022-06-18   ┆ 2022-06-18  │\n",
       "│ 513          ┆ 405005       ┆              ┆         ┆              ┆              ┆             │\n",
       "│ WO0000004122 ┆ CANTO GRANDE ┆ Zona Centro  ┆ Cerrado ┆ 2022-06-01   ┆ 2022-06-08   ┆ 2022-06-08  │\n",
       "│ 741          ┆ - 191096     ┆              ┆         ┆              ┆              ┆             │\n",
       "└──────────────┴──────────────┴──────────────┴─────────┴──────────────┴──────────────┴─────────────┘"
      ]
     },
     "execution_count": 5,
     "metadata": {},
     "output_type": "execute_result"
    }
   ],
   "source": [
    "Tickets = pl.concat([Historico, Actuales], how='vertical')\n",
    "Tickets.head()"
   ]
  },
  {
   "cell_type": "markdown",
   "metadata": {},
   "source": [
    "- Eliminar valores duplicados: Si existen 2 registros cuyo TikectID es igual, debe permanecer el que tenga la fecha de creacion más actual"
   ]
  },
  {
   "cell_type": "code",
   "execution_count": 6,
   "metadata": {},
   "outputs": [
    {
     "data": {
      "text/html": [
       "<div><style>\n",
       ".dataframe > thead > tr,\n",
       ".dataframe > tbody > tr {\n",
       "  text-align: right;\n",
       "  white-space: pre-wrap;\n",
       "}\n",
       "</style>\n",
       "<small>shape: (5, 7)</small><table border=\"1\" class=\"dataframe\"><thead><tr><th>TicketID</th><th>Ubicacion</th><th>Service Desk</th><th>Estado</th><th>Fecha Creacion</th><th>Fecha Termino</th><th>Fecha Cierre</th></tr><tr><td>str</td><td>str</td><td>str</td><td>str</td><td>date</td><td>date</td><td>date</td></tr></thead><tbody><tr><td>&quot;OT0000004849379&quot;</td><td>&quot;NAYLAMP - 191143&quot;</td><td>&quot;Zona Centro&quot;</td><td>&quot;Cerrado&quot;</td><td>2022-12-31</td><td>2023-01-25</td><td>2023-01-28</td></tr><tr><td>&quot;OT0000004849382&quot;</td><td>&quot;LOS DAMASCOS - 193038&quot;</td><td>&quot;Zona Sur&quot;</td><td>&quot;Cerrado&quot;</td><td>2022-12-31</td><td>2023-01-04</td><td>2023-01-07</td></tr><tr><td>&quot;OT0000004849726&quot;</td><td>&quot;LUREN - 380004&quot;</td><td>&quot;Zona Sur&quot;</td><td>&quot;Cerrado&quot;</td><td>2022-12-31</td><td>2023-01-02</td><td>2023-01-05</td></tr><tr><td>&quot;OT0000004849732&quot;</td><td>&quot;EL PINO - 191087&quot;</td><td>&quot;Zona Centro&quot;</td><td>&quot;Cerrado&quot;</td><td>2022-12-31</td><td>2023-01-06</td><td>2023-01-09</td></tr><tr><td>&quot;SA0000004849307&quot;</td><td>&quot;TUSILAGOS - 191108&quot;</td><td>&quot;Zona Centro&quot;</td><td>&quot;Rechazado&quot;</td><td>2022-12-31</td><td>null</td><td>null</td></tr></tbody></table></div>"
      ],
      "text/plain": [
       "shape: (5, 7)\n",
       "┌──────────────┬──────────────┬──────────────┬───────────┬─────────────┬─────────────┬─────────────┐\n",
       "│ TicketID     ┆ Ubicacion    ┆ Service Desk ┆ Estado    ┆ Fecha       ┆ Fecha       ┆ Fecha       │\n",
       "│ ---          ┆ ---          ┆ ---          ┆ ---       ┆ Creacion    ┆ Termino     ┆ Cierre      │\n",
       "│ str          ┆ str          ┆ str          ┆ str       ┆ ---         ┆ ---         ┆ ---         │\n",
       "│              ┆              ┆              ┆           ┆ date        ┆ date        ┆ date        │\n",
       "╞══════════════╪══════════════╪══════════════╪═══════════╪═════════════╪═════════════╪═════════════╡\n",
       "│ OT0000004849 ┆ NAYLAMP -    ┆ Zona Centro  ┆ Cerrado   ┆ 2022-12-31  ┆ 2023-01-25  ┆ 2023-01-28  │\n",
       "│ 379          ┆ 191143       ┆              ┆           ┆             ┆             ┆             │\n",
       "│ OT0000004849 ┆ LOS DAMASCOS ┆ Zona Sur     ┆ Cerrado   ┆ 2022-12-31  ┆ 2023-01-04  ┆ 2023-01-07  │\n",
       "│ 382          ┆ - 193038     ┆              ┆           ┆             ┆             ┆             │\n",
       "│ OT0000004849 ┆ LUREN -      ┆ Zona Sur     ┆ Cerrado   ┆ 2022-12-31  ┆ 2023-01-02  ┆ 2023-01-05  │\n",
       "│ 726          ┆ 380004       ┆              ┆           ┆             ┆             ┆             │\n",
       "│ OT0000004849 ┆ EL PINO -    ┆ Zona Centro  ┆ Cerrado   ┆ 2022-12-31  ┆ 2023-01-06  ┆ 2023-01-09  │\n",
       "│ 732          ┆ 191087       ┆              ┆           ┆             ┆             ┆             │\n",
       "│ SA0000004849 ┆ TUSILAGOS -  ┆ Zona Centro  ┆ Rechazado ┆ 2022-12-31  ┆ null        ┆ null        │\n",
       "│ 307          ┆ 191108       ┆              ┆           ┆             ┆             ┆             │\n",
       "└──────────────┴──────────────┴──────────────┴───────────┴─────────────┴─────────────┴─────────────┘"
      ]
     },
     "execution_count": 6,
     "metadata": {},
     "output_type": "execute_result"
    }
   ],
   "source": [
    "Tickets = Tickets.sort(\n",
    "    by = ['TicketID', 'Fecha Creacion']\n",
    ").unique(\n",
    "    subset='TicketID',\n",
    "    keep='last', \n",
    "    maintain_order=True \n",
    ")\n",
    "Tickets.head()"
   ]
  },
  {
   "cell_type": "markdown",
   "metadata": {},
   "source": [
    "- Dividir columna [Ubicacion] en [Agencia] y [AgenciaID]"
   ]
  },
  {
   "cell_type": "code",
   "execution_count": 7,
   "metadata": {},
   "outputs": [
    {
     "data": {
      "text/html": [
       "<div><style>\n",
       ".dataframe > thead > tr,\n",
       ".dataframe > tbody > tr {\n",
       "  text-align: right;\n",
       "  white-space: pre-wrap;\n",
       "}\n",
       "</style>\n",
       "<small>shape: (5, 8)</small><table border=\"1\" class=\"dataframe\"><thead><tr><th>TicketID</th><th>Agencia</th><th>AgenciaID</th><th>Service Desk</th><th>Estado</th><th>Fecha Creacion</th><th>Fecha Termino</th><th>Fecha Cierre</th></tr><tr><td>str</td><td>str</td><td>i64</td><td>str</td><td>str</td><td>date</td><td>date</td><td>date</td></tr></thead><tbody><tr><td>&quot;OT0000004849379&quot;</td><td>&quot;NAYLAMP&quot;</td><td>191143</td><td>&quot;Zona Centro&quot;</td><td>&quot;Cerrado&quot;</td><td>2022-12-31</td><td>2023-01-25</td><td>2023-01-28</td></tr><tr><td>&quot;OT0000004849382&quot;</td><td>&quot;LOS DAMASCOS&quot;</td><td>193038</td><td>&quot;Zona Sur&quot;</td><td>&quot;Cerrado&quot;</td><td>2022-12-31</td><td>2023-01-04</td><td>2023-01-07</td></tr><tr><td>&quot;OT0000004849726&quot;</td><td>&quot;LUREN&quot;</td><td>380004</td><td>&quot;Zona Sur&quot;</td><td>&quot;Cerrado&quot;</td><td>2022-12-31</td><td>2023-01-02</td><td>2023-01-05</td></tr><tr><td>&quot;OT0000004849732&quot;</td><td>&quot;EL PINO&quot;</td><td>191087</td><td>&quot;Zona Centro&quot;</td><td>&quot;Cerrado&quot;</td><td>2022-12-31</td><td>2023-01-06</td><td>2023-01-09</td></tr><tr><td>&quot;SA0000004849307&quot;</td><td>&quot;TUSILAGOS&quot;</td><td>191108</td><td>&quot;Zona Centro&quot;</td><td>&quot;Rechazado&quot;</td><td>2022-12-31</td><td>null</td><td>null</td></tr></tbody></table></div>"
      ],
      "text/plain": [
       "shape: (5, 8)\n",
       "┌────────────┬────────────┬───────────┬────────────┬───────────┬───────────┬───────────┬───────────┐\n",
       "│ TicketID   ┆ Agencia    ┆ AgenciaID ┆ Service    ┆ Estado    ┆ Fecha     ┆ Fecha     ┆ Fecha     │\n",
       "│ ---        ┆ ---        ┆ ---       ┆ Desk       ┆ ---       ┆ Creacion  ┆ Termino   ┆ Cierre    │\n",
       "│ str        ┆ str        ┆ i64       ┆ ---        ┆ str       ┆ ---       ┆ ---       ┆ ---       │\n",
       "│            ┆            ┆           ┆ str        ┆           ┆ date      ┆ date      ┆ date      │\n",
       "╞════════════╪════════════╪═══════════╪════════════╪═══════════╪═══════════╪═══════════╪═══════════╡\n",
       "│ OT00000048 ┆ NAYLAMP    ┆ 191143    ┆ Zona       ┆ Cerrado   ┆ 2022-12-3 ┆ 2023-01-2 ┆ 2023-01-2 │\n",
       "│ 49379      ┆            ┆           ┆ Centro     ┆           ┆ 1         ┆ 5         ┆ 8         │\n",
       "│ OT00000048 ┆ LOS        ┆ 193038    ┆ Zona Sur   ┆ Cerrado   ┆ 2022-12-3 ┆ 2023-01-0 ┆ 2023-01-0 │\n",
       "│ 49382      ┆ DAMASCOS   ┆           ┆            ┆           ┆ 1         ┆ 4         ┆ 7         │\n",
       "│ OT00000048 ┆ LUREN      ┆ 380004    ┆ Zona Sur   ┆ Cerrado   ┆ 2022-12-3 ┆ 2023-01-0 ┆ 2023-01-0 │\n",
       "│ 49726      ┆            ┆           ┆            ┆           ┆ 1         ┆ 2         ┆ 5         │\n",
       "│ OT00000048 ┆ EL PINO    ┆ 191087    ┆ Zona       ┆ Cerrado   ┆ 2022-12-3 ┆ 2023-01-0 ┆ 2023-01-0 │\n",
       "│ 49732      ┆            ┆           ┆ Centro     ┆           ┆ 1         ┆ 6         ┆ 9         │\n",
       "│ SA00000048 ┆ TUSILAGOS  ┆ 191108    ┆ Zona       ┆ Rechazado ┆ 2022-12-3 ┆ null      ┆ null      │\n",
       "│ 49307      ┆            ┆           ┆ Centro     ┆           ┆ 1         ┆           ┆           │\n",
       "└────────────┴────────────┴───────────┴────────────┴───────────┴───────────┴───────────┴───────────┘"
      ]
     },
     "execution_count": 7,
     "metadata": {},
     "output_type": "execute_result"
    }
   ],
   "source": [
    "Tickets = Tickets.with_columns(\n",
    "    pl.col('Ubicacion').str.split_exact(' - ', 1)\n",
    "    .struct.rename_fields(['Agencia','AgenciaID'])\n",
    "    .alias('Ubicacion')\n",
    ").unnest('Ubicacion').cast({'AgenciaID': pl.Int64})\n",
    "Tickets.head()"
   ]
  },
  {
   "cell_type": "markdown",
   "metadata": {},
   "source": [
    "- Crear la columna [Fecha Real Fin]: Si la [Fecha Termino] es nulo colocar la [Fecha Cierre], si no colocar la misma [Fecha Termino]"
   ]
  },
  {
   "cell_type": "code",
   "execution_count": 8,
   "metadata": {},
   "outputs": [
    {
     "data": {
      "text/html": [
       "<div><style>\n",
       ".dataframe > thead > tr,\n",
       ".dataframe > tbody > tr {\n",
       "  text-align: right;\n",
       "  white-space: pre-wrap;\n",
       "}\n",
       "</style>\n",
       "<small>shape: (5, 9)</small><table border=\"1\" class=\"dataframe\"><thead><tr><th>TicketID</th><th>Agencia</th><th>AgenciaID</th><th>Service Desk</th><th>Estado</th><th>Fecha Creacion</th><th>Fecha Termino</th><th>Fecha Cierre</th><th>Fecha Real Fin</th></tr><tr><td>str</td><td>str</td><td>i64</td><td>str</td><td>str</td><td>date</td><td>date</td><td>date</td><td>date</td></tr></thead><tbody><tr><td>&quot;OT0000004849379&quot;</td><td>&quot;NAYLAMP&quot;</td><td>191143</td><td>&quot;Zona Centro&quot;</td><td>&quot;Cerrado&quot;</td><td>2022-12-31</td><td>2023-01-25</td><td>2023-01-28</td><td>2023-01-25</td></tr><tr><td>&quot;OT0000004849382&quot;</td><td>&quot;LOS DAMASCOS&quot;</td><td>193038</td><td>&quot;Zona Sur&quot;</td><td>&quot;Cerrado&quot;</td><td>2022-12-31</td><td>2023-01-04</td><td>2023-01-07</td><td>2023-01-04</td></tr><tr><td>&quot;OT0000004849726&quot;</td><td>&quot;LUREN&quot;</td><td>380004</td><td>&quot;Zona Sur&quot;</td><td>&quot;Cerrado&quot;</td><td>2022-12-31</td><td>2023-01-02</td><td>2023-01-05</td><td>2023-01-02</td></tr><tr><td>&quot;OT0000004849732&quot;</td><td>&quot;EL PINO&quot;</td><td>191087</td><td>&quot;Zona Centro&quot;</td><td>&quot;Cerrado&quot;</td><td>2022-12-31</td><td>2023-01-06</td><td>2023-01-09</td><td>2023-01-06</td></tr><tr><td>&quot;SA0000004849307&quot;</td><td>&quot;TUSILAGOS&quot;</td><td>191108</td><td>&quot;Zona Centro&quot;</td><td>&quot;Rechazado&quot;</td><td>2022-12-31</td><td>null</td><td>null</td><td>null</td></tr></tbody></table></div>"
      ],
      "text/plain": [
       "shape: (5, 9)\n",
       "┌───────────┬───────────┬───────────┬───────────┬───┬───────────┬───────────┬───────────┬──────────┐\n",
       "│ TicketID  ┆ Agencia   ┆ AgenciaID ┆ Service   ┆ … ┆ Fecha     ┆ Fecha     ┆ Fecha     ┆ Fecha    │\n",
       "│ ---       ┆ ---       ┆ ---       ┆ Desk      ┆   ┆ Creacion  ┆ Termino   ┆ Cierre    ┆ Real Fin │\n",
       "│ str       ┆ str       ┆ i64       ┆ ---       ┆   ┆ ---       ┆ ---       ┆ ---       ┆ ---      │\n",
       "│           ┆           ┆           ┆ str       ┆   ┆ date      ┆ date      ┆ date      ┆ date     │\n",
       "╞═══════════╪═══════════╪═══════════╪═══════════╪═══╪═══════════╪═══════════╪═══════════╪══════════╡\n",
       "│ OT0000004 ┆ NAYLAMP   ┆ 191143    ┆ Zona      ┆ … ┆ 2022-12-3 ┆ 2023-01-2 ┆ 2023-01-2 ┆ 2023-01- │\n",
       "│ 849379    ┆           ┆           ┆ Centro    ┆   ┆ 1         ┆ 5         ┆ 8         ┆ 25       │\n",
       "│ OT0000004 ┆ LOS       ┆ 193038    ┆ Zona Sur  ┆ … ┆ 2022-12-3 ┆ 2023-01-0 ┆ 2023-01-0 ┆ 2023-01- │\n",
       "│ 849382    ┆ DAMASCOS  ┆           ┆           ┆   ┆ 1         ┆ 4         ┆ 7         ┆ 04       │\n",
       "│ OT0000004 ┆ LUREN     ┆ 380004    ┆ Zona Sur  ┆ … ┆ 2022-12-3 ┆ 2023-01-0 ┆ 2023-01-0 ┆ 2023-01- │\n",
       "│ 849726    ┆           ┆           ┆           ┆   ┆ 1         ┆ 2         ┆ 5         ┆ 02       │\n",
       "│ OT0000004 ┆ EL PINO   ┆ 191087    ┆ Zona      ┆ … ┆ 2022-12-3 ┆ 2023-01-0 ┆ 2023-01-0 ┆ 2023-01- │\n",
       "│ 849732    ┆           ┆           ┆ Centro    ┆   ┆ 1         ┆ 6         ┆ 9         ┆ 06       │\n",
       "│ SA0000004 ┆ TUSILAGOS ┆ 191108    ┆ Zona      ┆ … ┆ 2022-12-3 ┆ null      ┆ null      ┆ null     │\n",
       "│ 849307    ┆           ┆           ┆ Centro    ┆   ┆ 1         ┆           ┆           ┆          │\n",
       "└───────────┴───────────┴───────────┴───────────┴───┴───────────┴───────────┴───────────┴──────────┘"
      ]
     },
     "execution_count": 8,
     "metadata": {},
     "output_type": "execute_result"
    }
   ],
   "source": [
    "Tickets = Tickets.with_columns(\n",
    "    pl.when(pl.col(\"Fecha Termino\").is_null()).then(pl.col('Fecha Cierre')).otherwise(pl.col(\"Fecha Termino\")).alias('Fecha Real Fin')   \n",
    ")\n",
    "Tickets.head()"
   ]
  },
  {
   "cell_type": "markdown",
   "metadata": {},
   "source": [
    "- Crear columna [Dias Cierre]: Es la diferencia entre las fechas, de [Fecha Real Fin] y [Fecha Creacion]."
   ]
  },
  {
   "cell_type": "code",
   "execution_count": 9,
   "metadata": {},
   "outputs": [
    {
     "data": {
      "text/html": [
       "<div><style>\n",
       ".dataframe > thead > tr,\n",
       ".dataframe > tbody > tr {\n",
       "  text-align: right;\n",
       "  white-space: pre-wrap;\n",
       "}\n",
       "</style>\n",
       "<small>shape: (5, 10)</small><table border=\"1\" class=\"dataframe\"><thead><tr><th>TicketID</th><th>Agencia</th><th>AgenciaID</th><th>Service Desk</th><th>Estado</th><th>Fecha Creacion</th><th>Fecha Termino</th><th>Fecha Cierre</th><th>Fecha Real Fin</th><th>Dias Cierre</th></tr><tr><td>str</td><td>str</td><td>i64</td><td>str</td><td>str</td><td>date</td><td>date</td><td>date</td><td>date</td><td>i64</td></tr></thead><tbody><tr><td>&quot;OT0000004849379&quot;</td><td>&quot;NAYLAMP&quot;</td><td>191143</td><td>&quot;Zona Centro&quot;</td><td>&quot;Cerrado&quot;</td><td>2022-12-31</td><td>2023-01-25</td><td>2023-01-28</td><td>2023-01-25</td><td>25</td></tr><tr><td>&quot;OT0000004849382&quot;</td><td>&quot;LOS DAMASCOS&quot;</td><td>193038</td><td>&quot;Zona Sur&quot;</td><td>&quot;Cerrado&quot;</td><td>2022-12-31</td><td>2023-01-04</td><td>2023-01-07</td><td>2023-01-04</td><td>4</td></tr><tr><td>&quot;OT0000004849726&quot;</td><td>&quot;LUREN&quot;</td><td>380004</td><td>&quot;Zona Sur&quot;</td><td>&quot;Cerrado&quot;</td><td>2022-12-31</td><td>2023-01-02</td><td>2023-01-05</td><td>2023-01-02</td><td>2</td></tr><tr><td>&quot;OT0000004849732&quot;</td><td>&quot;EL PINO&quot;</td><td>191087</td><td>&quot;Zona Centro&quot;</td><td>&quot;Cerrado&quot;</td><td>2022-12-31</td><td>2023-01-06</td><td>2023-01-09</td><td>2023-01-06</td><td>6</td></tr><tr><td>&quot;SA0000004849307&quot;</td><td>&quot;TUSILAGOS&quot;</td><td>191108</td><td>&quot;Zona Centro&quot;</td><td>&quot;Rechazado&quot;</td><td>2022-12-31</td><td>null</td><td>null</td><td>null</td><td>null</td></tr></tbody></table></div>"
      ],
      "text/plain": [
       "shape: (5, 10)\n",
       "┌───────────┬───────────┬───────────┬───────────┬───┬───────────┬───────────┬───────────┬──────────┐\n",
       "│ TicketID  ┆ Agencia   ┆ AgenciaID ┆ Service   ┆ … ┆ Fecha     ┆ Fecha     ┆ Fecha     ┆ Dias     │\n",
       "│ ---       ┆ ---       ┆ ---       ┆ Desk      ┆   ┆ Termino   ┆ Cierre    ┆ Real Fin  ┆ Cierre   │\n",
       "│ str       ┆ str       ┆ i64       ┆ ---       ┆   ┆ ---       ┆ ---       ┆ ---       ┆ ---      │\n",
       "│           ┆           ┆           ┆ str       ┆   ┆ date      ┆ date      ┆ date      ┆ i64      │\n",
       "╞═══════════╪═══════════╪═══════════╪═══════════╪═══╪═══════════╪═══════════╪═══════════╪══════════╡\n",
       "│ OT0000004 ┆ NAYLAMP   ┆ 191143    ┆ Zona      ┆ … ┆ 2023-01-2 ┆ 2023-01-2 ┆ 2023-01-2 ┆ 25       │\n",
       "│ 849379    ┆           ┆           ┆ Centro    ┆   ┆ 5         ┆ 8         ┆ 5         ┆          │\n",
       "│ OT0000004 ┆ LOS       ┆ 193038    ┆ Zona Sur  ┆ … ┆ 2023-01-0 ┆ 2023-01-0 ┆ 2023-01-0 ┆ 4        │\n",
       "│ 849382    ┆ DAMASCOS  ┆           ┆           ┆   ┆ 4         ┆ 7         ┆ 4         ┆          │\n",
       "│ OT0000004 ┆ LUREN     ┆ 380004    ┆ Zona Sur  ┆ … ┆ 2023-01-0 ┆ 2023-01-0 ┆ 2023-01-0 ┆ 2        │\n",
       "│ 849726    ┆           ┆           ┆           ┆   ┆ 2         ┆ 5         ┆ 2         ┆          │\n",
       "│ OT0000004 ┆ EL PINO   ┆ 191087    ┆ Zona      ┆ … ┆ 2023-01-0 ┆ 2023-01-0 ┆ 2023-01-0 ┆ 6        │\n",
       "│ 849732    ┆           ┆           ┆ Centro    ┆   ┆ 6         ┆ 9         ┆ 6         ┆          │\n",
       "│ SA0000004 ┆ TUSILAGOS ┆ 191108    ┆ Zona      ┆ … ┆ null      ┆ null      ┆ null      ┆ null     │\n",
       "│ 849307    ┆           ┆           ┆ Centro    ┆   ┆           ┆           ┆           ┆          │\n",
       "└───────────┴───────────┴───────────┴───────────┴───┴───────────┴───────────┴───────────┴──────────┘"
      ]
     },
     "execution_count": 9,
     "metadata": {},
     "output_type": "execute_result"
    }
   ],
   "source": [
    "Tickets = Tickets.with_columns(\n",
    "    (pl.col('Fecha Real Fin') - pl.col('Fecha Creacion'))\n",
    "    .dt.total_days()\n",
    "    .alias('Dias Cierre')\n",
    ")\n",
    "Tickets.head()"
   ]
  },
  {
   "cell_type": "markdown",
   "metadata": {},
   "source": [
    "--Crear al columna Grupo Dias en base a esas reglas:\n",
    "- Si [Dias Cierre] es nulo entonces nulo\n",
    "- Si [Dias Cierre] <= 3 Entonces \"0 a 3 días\"\n",
    "- Si [Dias Cierre] <= 7 Entonces \"4 a 7 días\"\n",
    "- Si [Dias Cierre] <= 15 Entonces \"8 a 15 días\"\n",
    "- Si [Dias Cierre] > 15 Entonces \"+15 días\""
   ]
  },
  {
   "cell_type": "code",
   "execution_count": 10,
   "metadata": {},
   "outputs": [
    {
     "data": {
      "text/html": [
       "<div><style>\n",
       ".dataframe > thead > tr,\n",
       ".dataframe > tbody > tr {\n",
       "  text-align: right;\n",
       "  white-space: pre-wrap;\n",
       "}\n",
       "</style>\n",
       "<small>shape: (5, 11)</small><table border=\"1\" class=\"dataframe\"><thead><tr><th>TicketID</th><th>Agencia</th><th>AgenciaID</th><th>Service Desk</th><th>Estado</th><th>Fecha Creacion</th><th>Fecha Termino</th><th>Fecha Cierre</th><th>Fecha Real Fin</th><th>Dias Cierre</th><th>Grupo Dias</th></tr><tr><td>str</td><td>str</td><td>i64</td><td>str</td><td>str</td><td>date</td><td>date</td><td>date</td><td>date</td><td>i64</td><td>str</td></tr></thead><tbody><tr><td>&quot;OT0000004849379&quot;</td><td>&quot;NAYLAMP&quot;</td><td>191143</td><td>&quot;Zona Centro&quot;</td><td>&quot;Cerrado&quot;</td><td>2022-12-31</td><td>2023-01-25</td><td>2023-01-28</td><td>2023-01-25</td><td>25</td><td>&quot;+ de 15 dias&quot;</td></tr><tr><td>&quot;OT0000004849382&quot;</td><td>&quot;LOS DAMASCOS&quot;</td><td>193038</td><td>&quot;Zona Sur&quot;</td><td>&quot;Cerrado&quot;</td><td>2022-12-31</td><td>2023-01-04</td><td>2023-01-07</td><td>2023-01-04</td><td>4</td><td>&quot;4 a 7 dias&quot;</td></tr><tr><td>&quot;OT0000004849726&quot;</td><td>&quot;LUREN&quot;</td><td>380004</td><td>&quot;Zona Sur&quot;</td><td>&quot;Cerrado&quot;</td><td>2022-12-31</td><td>2023-01-02</td><td>2023-01-05</td><td>2023-01-02</td><td>2</td><td>&quot;0 a 3 dias&quot;</td></tr><tr><td>&quot;OT0000004849732&quot;</td><td>&quot;EL PINO&quot;</td><td>191087</td><td>&quot;Zona Centro&quot;</td><td>&quot;Cerrado&quot;</td><td>2022-12-31</td><td>2023-01-06</td><td>2023-01-09</td><td>2023-01-06</td><td>6</td><td>&quot;4 a 7 dias&quot;</td></tr><tr><td>&quot;SA0000004849307&quot;</td><td>&quot;TUSILAGOS&quot;</td><td>191108</td><td>&quot;Zona Centro&quot;</td><td>&quot;Rechazado&quot;</td><td>2022-12-31</td><td>null</td><td>null</td><td>null</td><td>null</td><td>null</td></tr></tbody></table></div>"
      ],
      "text/plain": [
       "shape: (5, 11)\n",
       "┌───────────┬───────────┬───────────┬───────────┬───┬───────────┬───────────┬───────────┬──────────┐\n",
       "│ TicketID  ┆ Agencia   ┆ AgenciaID ┆ Service   ┆ … ┆ Fecha     ┆ Fecha     ┆ Dias      ┆ Grupo    │\n",
       "│ ---       ┆ ---       ┆ ---       ┆ Desk      ┆   ┆ Cierre    ┆ Real Fin  ┆ Cierre    ┆ Dias     │\n",
       "│ str       ┆ str       ┆ i64       ┆ ---       ┆   ┆ ---       ┆ ---       ┆ ---       ┆ ---      │\n",
       "│           ┆           ┆           ┆ str       ┆   ┆ date      ┆ date      ┆ i64       ┆ str      │\n",
       "╞═══════════╪═══════════╪═══════════╪═══════════╪═══╪═══════════╪═══════════╪═══════════╪══════════╡\n",
       "│ OT0000004 ┆ NAYLAMP   ┆ 191143    ┆ Zona      ┆ … ┆ 2023-01-2 ┆ 2023-01-2 ┆ 25        ┆ + de 15  │\n",
       "│ 849379    ┆           ┆           ┆ Centro    ┆   ┆ 8         ┆ 5         ┆           ┆ dias     │\n",
       "│ OT0000004 ┆ LOS       ┆ 193038    ┆ Zona Sur  ┆ … ┆ 2023-01-0 ┆ 2023-01-0 ┆ 4         ┆ 4 a 7    │\n",
       "│ 849382    ┆ DAMASCOS  ┆           ┆           ┆   ┆ 7         ┆ 4         ┆           ┆ dias     │\n",
       "│ OT0000004 ┆ LUREN     ┆ 380004    ┆ Zona Sur  ┆ … ┆ 2023-01-0 ┆ 2023-01-0 ┆ 2         ┆ 0 a 3    │\n",
       "│ 849726    ┆           ┆           ┆           ┆   ┆ 5         ┆ 2         ┆           ┆ dias     │\n",
       "│ OT0000004 ┆ EL PINO   ┆ 191087    ┆ Zona      ┆ … ┆ 2023-01-0 ┆ 2023-01-0 ┆ 6         ┆ 4 a 7    │\n",
       "│ 849732    ┆           ┆           ┆ Centro    ┆   ┆ 9         ┆ 6         ┆           ┆ dias     │\n",
       "│ SA0000004 ┆ TUSILAGOS ┆ 191108    ┆ Zona      ┆ … ┆ null      ┆ null      ┆ null      ┆ null     │\n",
       "│ 849307    ┆           ┆           ┆ Centro    ┆   ┆           ┆           ┆           ┆          │\n",
       "└───────────┴───────────┴───────────┴───────────┴───┴───────────┴───────────┴───────────┴──────────┘"
      ]
     },
     "execution_count": 10,
     "metadata": {},
     "output_type": "execute_result"
    }
   ],
   "source": [
    "Tickets = Tickets.with_columns(\n",
    "    pl.when(pl.col('Dias Cierre').is_null()).then(None)\n",
    "    .when(pl.col('Dias Cierre') <= 3).then(pl.lit('0 a 3 dias'))\n",
    "    .when(pl.col('Dias Cierre') <= 7).then(pl.lit('4 a 7 dias'))\n",
    "    .when(pl.col('Dias Cierre') <= 15).then(pl.lit('8 a 15 dias'))\n",
    "    .otherwise(pl.lit('+ de 15 dias')).alias('Grupo Dias')\n",
    "    )\n",
    "Tickets.head()"
   ]
  },
  {
   "cell_type": "markdown",
   "metadata": {},
   "source": [
    "## Lectura Base Atenciones\n",
    "- Leer archivos que estan dentro de una carpeta\n",
    "- Importamos la libreria \"from pathlib import Path\" para leer archvos dentro de una carpeta"
   ]
  },
  {
   "cell_type": "code",
   "execution_count": 11,
   "metadata": {},
   "outputs": [],
   "source": [
    "from pathlib import Path"
   ]
  },
  {
   "cell_type": "code",
   "execution_count": 12,
   "metadata": {},
   "outputs": [
    {
     "data": {
      "text/html": [
       "<div><style>\n",
       ".dataframe > thead > tr,\n",
       ".dataframe > tbody > tr {\n",
       "  text-align: right;\n",
       "  white-space: pre-wrap;\n",
       "}\n",
       "</style>\n",
       "<small>shape: (5, 5)</small><table border=\"1\" class=\"dataframe\"><thead><tr><th>Numero Ticket</th><th>Tipo de Ticket</th><th>Proveedor</th><th>Costo Atencion</th><th>Nombre_Archivo</th></tr><tr><td>str</td><td>str</td><td>str</td><td>str</td><td>str</td></tr></thead><tbody><tr><td>&quot;WO0000005584689&quot;</td><td>&quot;Variable&quot;</td><td>&quot;MR EXPRESS&quot;</td><td>null</td><td>&quot;Atenciones Centro.xlsx&quot;</td></tr><tr><td>&quot;WO0000004544943&quot;</td><td>&quot;Rechazado&quot;</td><td>null</td><td>&quot;100&quot;</td><td>&quot;Atenciones Centro.xlsx&quot;</td></tr><tr><td>&quot;WO0000004545246&quot;</td><td>&quot;Rechazado&quot;</td><td>null</td><td>&quot;100&quot;</td><td>&quot;Atenciones Centro.xlsx&quot;</td></tr><tr><td>&quot;WO0000004559125&quot;</td><td>&quot;Rechazado&quot;</td><td>null</td><td>&quot;100&quot;</td><td>&quot;Atenciones Centro.xlsx&quot;</td></tr><tr><td>&quot;WO0000004707477&quot;</td><td>&quot;Rechazado&quot;</td><td>null</td><td>&quot;100&quot;</td><td>&quot;Atenciones Centro.xlsx&quot;</td></tr></tbody></table></div>"
      ],
      "text/plain": [
       "shape: (5, 5)\n",
       "┌─────────────────┬────────────────┬────────────┬────────────────┬────────────────────────┐\n",
       "│ Numero Ticket   ┆ Tipo de Ticket ┆ Proveedor  ┆ Costo Atencion ┆ Nombre_Archivo         │\n",
       "│ ---             ┆ ---            ┆ ---        ┆ ---            ┆ ---                    │\n",
       "│ str             ┆ str            ┆ str        ┆ str            ┆ str                    │\n",
       "╞═════════════════╪════════════════╪════════════╪════════════════╪════════════════════════╡\n",
       "│ WO0000005584689 ┆ Variable       ┆ MR EXPRESS ┆ null           ┆ Atenciones Centro.xlsx │\n",
       "│ WO0000004544943 ┆ Rechazado      ┆ null       ┆ 100            ┆ Atenciones Centro.xlsx │\n",
       "│ WO0000004545246 ┆ Rechazado      ┆ null       ┆ 100            ┆ Atenciones Centro.xlsx │\n",
       "│ WO0000004559125 ┆ Rechazado      ┆ null       ┆ 100            ┆ Atenciones Centro.xlsx │\n",
       "│ WO0000004707477 ┆ Rechazado      ┆ null       ┆ 100            ┆ Atenciones Centro.xlsx │\n",
       "└─────────────────┴────────────────┴────────────┴────────────────┴────────────────────────┘"
      ]
     },
     "execution_count": 12,
     "metadata": {},
     "output_type": "execute_result"
    }
   ],
   "source": [
    "rutaCarpeta = Path('./Atenciones/')\n",
    "archivos = list(rutaCarpeta.glob('*.xlsx'))\n",
    "\n",
    "Atenciones = pl.DataFrame()\n",
    "for archivo in archivos:\n",
    "    file = archivo.name                 \n",
    "    filepath = f'./Atenciones/{file}'   \n",
    "\n",
    "    data = pl.read_excel(\n",
    "    source = filepath,\n",
    "    sheet_name = 'Hoja1',\n",
    "    engine = 'xlsx2csv',        \n",
    "    read_options = {\n",
    "        'infer_schema_length':0, \n",
    "        'columns':['Numero Ticket', 'Tipo de Ticket', 'Proveedor', 'Costo Atencion']\n",
    "    })\n",
    "    data = data.with_columns(pl.lit(file).alias('Nombre_Archivo'))    \n",
    "    Atenciones = pl.concat([Atenciones, data], how='vertical')\n",
    "Atenciones.head()"
   ]
  },
  {
   "cell_type": "markdown",
   "metadata": {},
   "source": [
    "- Renombrando columna"
   ]
  },
  {
   "cell_type": "code",
   "execution_count": 13,
   "metadata": {},
   "outputs": [
    {
     "data": {
      "text/html": [
       "<div><style>\n",
       ".dataframe > thead > tr,\n",
       ".dataframe > tbody > tr {\n",
       "  text-align: right;\n",
       "  white-space: pre-wrap;\n",
       "}\n",
       "</style>\n",
       "<small>shape: (5, 5)</small><table border=\"1\" class=\"dataframe\"><thead><tr><th>TicketID</th><th>Tipo de Ticket</th><th>Proveedor</th><th>Costo Atencion</th><th>Nombre_Archivo</th></tr><tr><td>str</td><td>str</td><td>str</td><td>str</td><td>str</td></tr></thead><tbody><tr><td>&quot;WO0000005584689&quot;</td><td>&quot;Variable&quot;</td><td>&quot;MR EXPRESS&quot;</td><td>null</td><td>&quot;Atenciones Centro.xlsx&quot;</td></tr><tr><td>&quot;WO0000004544943&quot;</td><td>&quot;Rechazado&quot;</td><td>null</td><td>&quot;100&quot;</td><td>&quot;Atenciones Centro.xlsx&quot;</td></tr><tr><td>&quot;WO0000004545246&quot;</td><td>&quot;Rechazado&quot;</td><td>null</td><td>&quot;100&quot;</td><td>&quot;Atenciones Centro.xlsx&quot;</td></tr><tr><td>&quot;WO0000004559125&quot;</td><td>&quot;Rechazado&quot;</td><td>null</td><td>&quot;100&quot;</td><td>&quot;Atenciones Centro.xlsx&quot;</td></tr><tr><td>&quot;WO0000004707477&quot;</td><td>&quot;Rechazado&quot;</td><td>null</td><td>&quot;100&quot;</td><td>&quot;Atenciones Centro.xlsx&quot;</td></tr></tbody></table></div>"
      ],
      "text/plain": [
       "shape: (5, 5)\n",
       "┌─────────────────┬────────────────┬────────────┬────────────────┬────────────────────────┐\n",
       "│ TicketID        ┆ Tipo de Ticket ┆ Proveedor  ┆ Costo Atencion ┆ Nombre_Archivo         │\n",
       "│ ---             ┆ ---            ┆ ---        ┆ ---            ┆ ---                    │\n",
       "│ str             ┆ str            ┆ str        ┆ str            ┆ str                    │\n",
       "╞═════════════════╪════════════════╪════════════╪════════════════╪════════════════════════╡\n",
       "│ WO0000005584689 ┆ Variable       ┆ MR EXPRESS ┆ null           ┆ Atenciones Centro.xlsx │\n",
       "│ WO0000004544943 ┆ Rechazado      ┆ null       ┆ 100            ┆ Atenciones Centro.xlsx │\n",
       "│ WO0000004545246 ┆ Rechazado      ┆ null       ┆ 100            ┆ Atenciones Centro.xlsx │\n",
       "│ WO0000004559125 ┆ Rechazado      ┆ null       ┆ 100            ┆ Atenciones Centro.xlsx │\n",
       "│ WO0000004707477 ┆ Rechazado      ┆ null       ┆ 100            ┆ Atenciones Centro.xlsx │\n",
       "└─────────────────┴────────────────┴────────────┴────────────────┴────────────────────────┘"
      ]
     },
     "execution_count": 13,
     "metadata": {},
     "output_type": "execute_result"
    }
   ],
   "source": [
    "Atenciones = Atenciones.rename({\n",
    "    'Numero Ticket': 'TicketID'\n",
    "})\n",
    "Atenciones.head()"
   ]
  },
  {
   "cell_type": "markdown",
   "metadata": {},
   "source": [
    "- Transformando la Base Atenciones"
   ]
  },
  {
   "cell_type": "code",
   "execution_count": 14,
   "metadata": {},
   "outputs": [
    {
     "data": {
      "text/html": [
       "<div><style>\n",
       ".dataframe > thead > tr,\n",
       ".dataframe > tbody > tr {\n",
       "  text-align: right;\n",
       "  white-space: pre-wrap;\n",
       "}\n",
       "</style>\n",
       "<small>shape: (5, 4)</small><table border=\"1\" class=\"dataframe\"><thead><tr><th>TicketID</th><th>Tipo de Ticket</th><th>Proveedor</th><th>Costo Atencion</th></tr><tr><td>str</td><td>str</td><td>str</td><td>str</td></tr></thead><tbody><tr><td>&quot;WO0000005584689&quot;</td><td>&quot;Variable&quot;</td><td>&quot;MR EXPRESS&quot;</td><td>null</td></tr><tr><td>&quot;WO0000004544943&quot;</td><td>&quot;Rechazado&quot;</td><td>null</td><td>&quot;100&quot;</td></tr><tr><td>&quot;WO0000004545246&quot;</td><td>&quot;Rechazado&quot;</td><td>null</td><td>&quot;100&quot;</td></tr><tr><td>&quot;WO0000004559125&quot;</td><td>&quot;Rechazado&quot;</td><td>null</td><td>&quot;100&quot;</td></tr><tr><td>&quot;WO0000004707477&quot;</td><td>&quot;Rechazado&quot;</td><td>null</td><td>&quot;100&quot;</td></tr></tbody></table></div>"
      ],
      "text/plain": [
       "shape: (5, 4)\n",
       "┌─────────────────┬────────────────┬────────────┬────────────────┐\n",
       "│ TicketID        ┆ Tipo de Ticket ┆ Proveedor  ┆ Costo Atencion │\n",
       "│ ---             ┆ ---            ┆ ---        ┆ ---            │\n",
       "│ str             ┆ str            ┆ str        ┆ str            │\n",
       "╞═════════════════╪════════════════╪════════════╪════════════════╡\n",
       "│ WO0000005584689 ┆ Variable       ┆ MR EXPRESS ┆ null           │\n",
       "│ WO0000004544943 ┆ Rechazado      ┆ null       ┆ 100            │\n",
       "│ WO0000004545246 ┆ Rechazado      ┆ null       ┆ 100            │\n",
       "│ WO0000004559125 ┆ Rechazado      ┆ null       ┆ 100            │\n",
       "│ WO0000004707477 ┆ Rechazado      ┆ null       ┆ 100            │\n",
       "└─────────────────┴────────────────┴────────────┴────────────────┘"
      ]
     },
     "execution_count": 14,
     "metadata": {},
     "output_type": "execute_result"
    }
   ],
   "source": [
    "Atenciones = Atenciones.select(\n",
    "    pl.col(['TicketID', 'Tipo de Ticket', 'Proveedor']),\n",
    "    pl.col('Costo Atencion').str.replace(',', '.')\n",
    "    .str.to_uppercase()\n",
    "    .str.strip_chars()\n",
    "    .str.replace_many(\n",
    "        [\"SIN COSTO\", \"COSTO CERO\"], \"0\"\n",
    "    ).alias(\"Costo Atencion\")\n",
    ")\n",
    "Atenciones.head()"
   ]
  },
  {
   "cell_type": "markdown",
   "metadata": {},
   "source": [
    "- Convertir la columna [Costo Atencion] al tipo de dato decimal. Aquellos valores qeu no se pueden convertir, deberán ser reemplzados por nulo.\n",
    "- Aqui se debe crear una funcion personalizada para convertir tipo de dato de una columna."
   ]
  },
  {
   "cell_type": "code",
   "execution_count": 15,
   "metadata": {},
   "outputs": [],
   "source": [
    "# Creamos la funcion\n",
    "def texto_a_decimal(valor:str):\n",
    "    try:\n",
    "        return float(valor)\n",
    "    except:\n",
    "        return None"
   ]
  },
  {
   "cell_type": "code",
   "execution_count": 16,
   "metadata": {},
   "outputs": [
    {
     "name": "stderr",
     "output_type": "stream",
     "text": [
      "C:\\Users\\Dayan\\AppData\\Local\\Temp\\ipykernel_800\\1356152479.py:1: MapWithoutReturnDtypeWarning: Calling `map_elements` without specifying `return_dtype` can lead to unpredictable results. Specify `return_dtype` to silence this warning.\n",
      "  Atenciones = Atenciones.with_columns(\n"
     ]
    },
    {
     "data": {
      "text/html": [
       "<div><style>\n",
       ".dataframe > thead > tr,\n",
       ".dataframe > tbody > tr {\n",
       "  text-align: right;\n",
       "  white-space: pre-wrap;\n",
       "}\n",
       "</style>\n",
       "<small>shape: (5, 4)</small><table border=\"1\" class=\"dataframe\"><thead><tr><th>TicketID</th><th>Tipo de Ticket</th><th>Proveedor</th><th>Costo Atencion</th></tr><tr><td>str</td><td>str</td><td>str</td><td>f64</td></tr></thead><tbody><tr><td>&quot;WO0000005584689&quot;</td><td>&quot;Variable&quot;</td><td>&quot;MR EXPRESS&quot;</td><td>null</td></tr><tr><td>&quot;WO0000004544943&quot;</td><td>&quot;Rechazado&quot;</td><td>null</td><td>100.0</td></tr><tr><td>&quot;WO0000004545246&quot;</td><td>&quot;Rechazado&quot;</td><td>null</td><td>100.0</td></tr><tr><td>&quot;WO0000004559125&quot;</td><td>&quot;Rechazado&quot;</td><td>null</td><td>100.0</td></tr><tr><td>&quot;WO0000004707477&quot;</td><td>&quot;Rechazado&quot;</td><td>null</td><td>100.0</td></tr></tbody></table></div>"
      ],
      "text/plain": [
       "shape: (5, 4)\n",
       "┌─────────────────┬────────────────┬────────────┬────────────────┐\n",
       "│ TicketID        ┆ Tipo de Ticket ┆ Proveedor  ┆ Costo Atencion │\n",
       "│ ---             ┆ ---            ┆ ---        ┆ ---            │\n",
       "│ str             ┆ str            ┆ str        ┆ f64            │\n",
       "╞═════════════════╪════════════════╪════════════╪════════════════╡\n",
       "│ WO0000005584689 ┆ Variable       ┆ MR EXPRESS ┆ null           │\n",
       "│ WO0000004544943 ┆ Rechazado      ┆ null       ┆ 100.0          │\n",
       "│ WO0000004545246 ┆ Rechazado      ┆ null       ┆ 100.0          │\n",
       "│ WO0000004559125 ┆ Rechazado      ┆ null       ┆ 100.0          │\n",
       "│ WO0000004707477 ┆ Rechazado      ┆ null       ┆ 100.0          │\n",
       "└─────────────────┴────────────────┴────────────┴────────────────┘"
      ]
     },
     "execution_count": 16,
     "metadata": {},
     "output_type": "execute_result"
    }
   ],
   "source": [
    "Atenciones = Atenciones.with_columns(\n",
    "    pl.col(\"Costo Atencion\").map_elements(texto_a_decimal).alias(\"Costo Atencion\")\n",
    ")\n",
    "Atenciones.head()"
   ]
  }
 ],
 "metadata": {
  "kernelspec": {
   "display_name": "vEntregable",
   "language": "python",
   "name": "python3"
  },
  "language_info": {
   "codemirror_mode": {
    "name": "ipython",
    "version": 3
   },
   "file_extension": ".py",
   "mimetype": "text/x-python",
   "name": "python",
   "nbconvert_exporter": "python",
   "pygments_lexer": "ipython3",
   "version": "3.11.7"
  }
 },
 "nbformat": 4,
 "nbformat_minor": 2
}
